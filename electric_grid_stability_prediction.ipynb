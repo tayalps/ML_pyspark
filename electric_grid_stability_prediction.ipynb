import pandas as pd
import numpy as np
import pyodbc
import os
import seaborn as sns
import matplotlib.pyplot as plt
%matplotlib inline

import warnings
warnings.filterwarnings('ignore')

username=os.environ['HID']  # Key for the HID, predefined in Domino Settings
passwd=os.environ['HID_Password']     # Key for the HID password, predefined in Domino Settings
train_data_path = "hcegchdp1_hive_ranger.hce_dev_xsbg_published_dstraining.electricgrid_train"

